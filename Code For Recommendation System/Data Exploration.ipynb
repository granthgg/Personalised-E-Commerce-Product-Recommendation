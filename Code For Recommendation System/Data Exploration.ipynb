{
 "cells": [
  {
   "cell_type": "markdown",
   "id": "5c2faf80",
   "metadata": {},
   "source": [
    "# Data Exploration for Understanding Relation and Pattern in Data\n",
    "- Data was Visualised and Explored\n",
    "- Varoius Data Representation Graphs are made to understand the relation among data, such as Bar Graph, Scatter Plot, etc.\n",
    "- In this the Each Dataset is explored in Different Sections"
   ]
  },
  {
   "cell_type": "code",
   "execution_count": 1,
   "id": "6d253eaa",
   "metadata": {},
   "outputs": [],
   "source": [
    "import pandas as pd\n",
    "import matplotlib.pyplot as plt\n",
    "import seaborn as sns"
   ]
  },
  {
   "cell_type": "code",
   "execution_count": 2,
   "id": "6accb721",
   "metadata": {},
   "outputs": [],
   "source": [
    "df_User = pd.read_csv('user.csv')\n",
    "df_Product = pd.read_csv('product.csv')\n",
    "df_Interaction = pd.read_csv('interactions.csv')\n",
    "df_Purchases = pd.read_csv('purchases.csv')"
   ]
  },
  {
   "cell_type": "markdown",
   "id": "f03de5ea",
   "metadata": {},
   "source": [
    "# User Information"
   ]
  },
  {
   "cell_type": "code",
   "execution_count": 3,
   "id": "0cd25a70",
   "metadata": {},
   "outputs": [
    {
     "data": {
      "text/html": [
       "<div>\n",
       "<style scoped>\n",
       "    .dataframe tbody tr th:only-of-type {\n",
       "        vertical-align: middle;\n",
       "    }\n",
       "\n",
       "    .dataframe tbody tr th {\n",
       "        vertical-align: top;\n",
       "    }\n",
       "\n",
       "    .dataframe thead th {\n",
       "        text-align: right;\n",
       "    }\n",
       "</style>\n",
       "<table border=\"1\" class=\"dataframe\">\n",
       "  <thead>\n",
       "    <tr style=\"text-align: right;\">\n",
       "      <th></th>\n",
       "      <th>User ID</th>\n",
       "      <th>Age</th>\n",
       "      <th>Gender</th>\n",
       "      <th>Location</th>\n",
       "      <th>Interests</th>\n",
       "      <th>Subscription Status</th>\n",
       "    </tr>\n",
       "  </thead>\n",
       "  <tbody>\n",
       "    <tr>\n",
       "      <th>0</th>\n",
       "      <td>0</td>\n",
       "      <td>19</td>\n",
       "      <td>Male</td>\n",
       "      <td>Punjab</td>\n",
       "      <td>Home, Clothing, Electronics</td>\n",
       "      <td>Free</td>\n",
       "    </tr>\n",
       "    <tr>\n",
       "      <th>1</th>\n",
       "      <td>1</td>\n",
       "      <td>52</td>\n",
       "      <td>Female</td>\n",
       "      <td>Gujarat</td>\n",
       "      <td>Books, Beauty</td>\n",
       "      <td>Free</td>\n",
       "    </tr>\n",
       "    <tr>\n",
       "      <th>2</th>\n",
       "      <td>2</td>\n",
       "      <td>30</td>\n",
       "      <td>Female</td>\n",
       "      <td>Kerala</td>\n",
       "      <td>Beauty, Books, Electronics</td>\n",
       "      <td>Free</td>\n",
       "    </tr>\n",
       "    <tr>\n",
       "      <th>3</th>\n",
       "      <td>3</td>\n",
       "      <td>37</td>\n",
       "      <td>Female</td>\n",
       "      <td>Bihar</td>\n",
       "      <td>Books, Electronics, Home</td>\n",
       "      <td>Free</td>\n",
       "    </tr>\n",
       "    <tr>\n",
       "      <th>4</th>\n",
       "      <td>4</td>\n",
       "      <td>43</td>\n",
       "      <td>Female</td>\n",
       "      <td>Tamil Nadu</td>\n",
       "      <td>Electronics, Clothing</td>\n",
       "      <td>Premium</td>\n",
       "    </tr>\n",
       "  </tbody>\n",
       "</table>\n",
       "</div>"
      ],
      "text/plain": [
       "   User ID  Age  Gender    Location                    Interests  \\\n",
       "0        0   19    Male      Punjab  Home, Clothing, Electronics   \n",
       "1        1   52  Female     Gujarat                Books, Beauty   \n",
       "2        2   30  Female      Kerala   Beauty, Books, Electronics   \n",
       "3        3   37  Female       Bihar     Books, Electronics, Home   \n",
       "4        4   43  Female  Tamil Nadu        Electronics, Clothing   \n",
       "\n",
       "  Subscription Status  \n",
       "0                Free  \n",
       "1                Free  \n",
       "2                Free  \n",
       "3                Free  \n",
       "4             Premium  "
      ]
     },
     "execution_count": 3,
     "metadata": {},
     "output_type": "execute_result"
    }
   ],
   "source": [
    "df_User.head()"
   ]
  },
  {
   "cell_type": "code",
   "execution_count": 4,
   "id": "cb7f93f7",
   "metadata": {},
   "outputs": [
    {
     "name": "stdout",
     "output_type": "stream",
     "text": [
      "<class 'pandas.core.frame.DataFrame'>\n",
      "RangeIndex: 1000 entries, 0 to 999\n",
      "Data columns (total 6 columns):\n",
      " #   Column               Non-Null Count  Dtype \n",
      "---  ------               --------------  ----- \n",
      " 0   User ID              1000 non-null   int64 \n",
      " 1   Age                  1000 non-null   int64 \n",
      " 2   Gender               1000 non-null   object\n",
      " 3   Location             1000 non-null   object\n",
      " 4   Interests            1000 non-null   object\n",
      " 5   Subscription Status  1000 non-null   object\n",
      "dtypes: int64(2), object(4)\n",
      "memory usage: 47.0+ KB\n"
     ]
    }
   ],
   "source": [
    "df_User.info()"
   ]
  },
  {
   "cell_type": "code",
   "execution_count": 5,
   "id": "142b1cc6",
   "metadata": {},
   "outputs": [
    {
     "data": {
      "text/html": [
       "<div>\n",
       "<style scoped>\n",
       "    .dataframe tbody tr th:only-of-type {\n",
       "        vertical-align: middle;\n",
       "    }\n",
       "\n",
       "    .dataframe tbody tr th {\n",
       "        vertical-align: top;\n",
       "    }\n",
       "\n",
       "    .dataframe thead th {\n",
       "        text-align: right;\n",
       "    }\n",
       "</style>\n",
       "<table border=\"1\" class=\"dataframe\">\n",
       "  <thead>\n",
       "    <tr style=\"text-align: right;\">\n",
       "      <th></th>\n",
       "      <th>User ID</th>\n",
       "      <th>Age</th>\n",
       "    </tr>\n",
       "  </thead>\n",
       "  <tbody>\n",
       "    <tr>\n",
       "      <th>count</th>\n",
       "      <td>1000.000000</td>\n",
       "      <td>1000.00000</td>\n",
       "    </tr>\n",
       "    <tr>\n",
       "      <th>mean</th>\n",
       "      <td>499.500000</td>\n",
       "      <td>38.63300</td>\n",
       "    </tr>\n",
       "    <tr>\n",
       "      <th>std</th>\n",
       "      <td>288.819436</td>\n",
       "      <td>9.54869</td>\n",
       "    </tr>\n",
       "    <tr>\n",
       "      <th>min</th>\n",
       "      <td>0.000000</td>\n",
       "      <td>18.00000</td>\n",
       "    </tr>\n",
       "    <tr>\n",
       "      <th>25%</th>\n",
       "      <td>249.750000</td>\n",
       "      <td>32.00000</td>\n",
       "    </tr>\n",
       "    <tr>\n",
       "      <th>50%</th>\n",
       "      <td>499.500000</td>\n",
       "      <td>38.00000</td>\n",
       "    </tr>\n",
       "    <tr>\n",
       "      <th>75%</th>\n",
       "      <td>749.250000</td>\n",
       "      <td>45.00000</td>\n",
       "    </tr>\n",
       "    <tr>\n",
       "      <th>max</th>\n",
       "      <td>999.000000</td>\n",
       "      <td>60.00000</td>\n",
       "    </tr>\n",
       "  </tbody>\n",
       "</table>\n",
       "</div>"
      ],
      "text/plain": [
       "           User ID         Age\n",
       "count  1000.000000  1000.00000\n",
       "mean    499.500000    38.63300\n",
       "std     288.819436     9.54869\n",
       "min       0.000000    18.00000\n",
       "25%     249.750000    32.00000\n",
       "50%     499.500000    38.00000\n",
       "75%     749.250000    45.00000\n",
       "max     999.000000    60.00000"
      ]
     },
     "execution_count": 5,
     "metadata": {},
     "output_type": "execute_result"
    }
   ],
   "source": [
    "df_User.describe()"
   ]
  },
  {
   "cell_type": "code",
   "execution_count": 6,
   "id": "d94d727c",
   "metadata": {},
   "outputs": [
    {
     "data": {
      "image/png": "[encoded data removed]",
      "text/plain": [
       "<Figure size 864x576 with 3 Axes>"
      ]
     },
     "metadata": {
      "needs_background": "light"
     },
     "output_type": "display_data"
    }
   ],
   "source": [
    "plt.figure(figsize=(12, 8))\n",
    "sns.set_palette('flare')\n",
    "\n",
    "# Ploting Age Distribution\n",
    "plt.subplot(2, 2, 1)\n",
    "sns.histplot(df_User['Age'], bins=10, kde=True)\n",
    "plt.title('Age Distribution')\n",
    "\n",
    "# Ploting Gender Distribution\n",
    "plt.subplot(2, 2, 2)\n",
    "sns.countplot(data=df_User, x='Gender')\n",
    "plt.title('Gender Distribution')\n",
    "\n",
    "plt.subplot(2, 2, 3)\n",
    "sns.countplot(data=df_User, x='Subscription Status')\n",
    "plt.title('Subscription Status Distribution')\n",
    "\n",
    "plt.tight_layout()\n",
    "plt.show()"
   ]
  },
  {
   "cell_type": "markdown",
   "id": "e40c8a3f",
   "metadata": {},
   "source": [
    "# Product Information"
   ]
  },
  {
   "cell_type": "code",
   "execution_count": 7,
   "id": "cbb7eaa2",
   "metadata": {},
   "outputs": [
    {
     "data": {
      "text/html": [
       "<div>\n",
       "<style scoped>\n",
       "    .dataframe tbody tr th:only-of-type {\n",
       "        vertical-align: middle;\n",
       "    }\n",
       "\n",
       "    .dataframe tbody tr th {\n",
       "        vertical-align: top;\n",
       "    }\n",
       "\n",
       "    .dataframe thead th {\n",
       "        text-align: right;\n",
       "    }\n",
       "</style>\n",
       "<table border=\"1\" class=\"dataframe\">\n",
       "  <thead>\n",
       "    <tr style=\"text-align: right;\">\n",
       "      <th></th>\n",
       "      <th>Product ID</th>\n",
       "      <th>Product Name</th>\n",
       "      <th>Category</th>\n",
       "      <th>Price</th>\n",
       "      <th>Brand</th>\n",
       "      <th>Features</th>\n",
       "      <th>Average Rating</th>\n",
       "      <th>Number of Ratings</th>\n",
       "      <th>Availability</th>\n",
       "    </tr>\n",
       "  </thead>\n",
       "  <tbody>\n",
       "    <tr>\n",
       "      <th>0</th>\n",
       "      <td>8399</td>\n",
       "      <td>majority Electronics</td>\n",
       "      <td>Electronics</td>\n",
       "      <td>119.579061</td>\n",
       "      <td>Parrish Group</td>\n",
       "      <td>4K resolution, Touchscreen display, Wireless c...</td>\n",
       "      <td>4.53</td>\n",
       "      <td>546</td>\n",
       "      <td>In Stock</td>\n",
       "    </tr>\n",
       "    <tr>\n",
       "      <th>1</th>\n",
       "      <td>4636603</td>\n",
       "      <td>choose Electronics</td>\n",
       "      <td>Electronics</td>\n",
       "      <td>442.823628</td>\n",
       "      <td>Martin-Blackburn</td>\n",
       "      <td>Bluetooth connectivity, 4K resolution</td>\n",
       "      <td>2.58</td>\n",
       "      <td>160</td>\n",
       "      <td>In Stock</td>\n",
       "    </tr>\n",
       "    <tr>\n",
       "      <th>2</th>\n",
       "      <td>35712313</td>\n",
       "      <td>you Electronics</td>\n",
       "      <td>Electronics</td>\n",
       "      <td>353.204908</td>\n",
       "      <td>Sanders, Garcia and Schneider</td>\n",
       "      <td>4K resolution, Wireless charging</td>\n",
       "      <td>2.83</td>\n",
       "      <td>232</td>\n",
       "      <td>In Stock</td>\n",
       "    </tr>\n",
       "    <tr>\n",
       "      <th>3</th>\n",
       "      <td>6640</td>\n",
       "      <td>none Electronics</td>\n",
       "      <td>Electronics</td>\n",
       "      <td>108.408241</td>\n",
       "      <td>Higgins LLC</td>\n",
       "      <td>Wireless charging, 4K resolution, Bluetooth co...</td>\n",
       "      <td>2.70</td>\n",
       "      <td>125</td>\n",
       "      <td>In Stock</td>\n",
       "    </tr>\n",
       "    <tr>\n",
       "      <th>4</th>\n",
       "      <td>417281</td>\n",
       "      <td>scientist Electronics</td>\n",
       "      <td>Electronics</td>\n",
       "      <td>292.582219</td>\n",
       "      <td>Martin-Blackburn</td>\n",
       "      <td>Wireless charging, 4K resolution, Touchscreen ...</td>\n",
       "      <td>2.05</td>\n",
       "      <td>539</td>\n",
       "      <td>In Stock</td>\n",
       "    </tr>\n",
       "  </tbody>\n",
       "</table>\n",
       "</div>"
      ],
      "text/plain": [
       "   Product ID           Product Name     Category       Price  \\\n",
       "0        8399   majority Electronics  Electronics  119.579061   \n",
       "1     4636603     choose Electronics  Electronics  442.823628   \n",
       "2    35712313        you Electronics  Electronics  353.204908   \n",
       "3        6640       none Electronics  Electronics  108.408241   \n",
       "4      417281  scientist Electronics  Electronics  292.582219   \n",
       "\n",
       "                           Brand  \\\n",
       "0                  Parrish Group   \n",
       "1               Martin-Blackburn   \n",
       "2  Sanders, Garcia and Schneider   \n",
       "3                    Higgins LLC   \n",
       "4               Martin-Blackburn   \n",
       "\n",
       "                                            Features  Average Rating  \\\n",
       "0  4K resolution, Touchscreen display, Wireless c...            4.53   \n",
       "1              Bluetooth connectivity, 4K resolution            2.58   \n",
       "2                   4K resolution, Wireless charging            2.83   \n",
       "3  Wireless charging, 4K resolution, Bluetooth co...            2.70   \n",
       "4  Wireless charging, 4K resolution, Touchscreen ...            2.05   \n",
       "\n",
       "   Number of Ratings Availability  \n",
       "0                546     In Stock  \n",
       "1                160     In Stock  \n",
       "2                232     In Stock  \n",
       "3                125     In Stock  \n",
       "4                539     In Stock  "
      ]
     },
     "execution_count": 7,
     "metadata": {},
     "output_type": "execute_result"
    }
   ],
   "source": [
    "df_Product.head()"
   ]
  },
  {
   "cell_type": "code",
   "execution_count": 8,
   "id": "e942ec80",
   "metadata": {},
   "outputs": [
    {
     "name": "stdout",
     "output_type": "stream",
     "text": [
      "<class 'pandas.core.frame.DataFrame'>\n",
      "RangeIndex: 85 entries, 0 to 84\n",
      "Data columns (total 9 columns):\n",
      " #   Column             Non-Null Count  Dtype  \n",
      "---  ------             --------------  -----  \n",
      " 0   Product ID         85 non-null     int64  \n",
      " 1   Product Name       85 non-null     object \n",
      " 2   Category           85 non-null     object \n",
      " 3   Price              85 non-null     float64\n",
      " 4   Brand              85 non-null     object \n",
      " 5   Features           85 non-null     object \n",
      " 6   Average Rating     85 non-null     float64\n",
      " 7   Number of Ratings  85 non-null     int64  \n",
      " 8   Availability       85 non-null     object \n",
      "dtypes: float64(2), int64(2), object(5)\n",
      "memory usage: 6.1+ KB\n"
     ]
    }
   ],
   "source": [
    "df_Product.info()"
   ]
  },
  {
   "cell_type": "code",
   "execution_count": 9,
   "id": "53c7d37f",
   "metadata": {},
   "outputs": [
    {
     "data": {
      "text/html": [
       "<div>\n",
       "<style scoped>\n",
       "    .dataframe tbody tr th:only-of-type {\n",
       "        vertical-align: middle;\n",
       "    }\n",
       "\n",
       "    .dataframe tbody tr th {\n",
       "        vertical-align: top;\n",
       "    }\n",
       "\n",
       "    .dataframe thead th {\n",
       "        text-align: right;\n",
       "    }\n",
       "</style>\n",
       "<table border=\"1\" class=\"dataframe\">\n",
       "  <thead>\n",
       "    <tr style=\"text-align: right;\">\n",
       "      <th></th>\n",
       "      <th>Product ID</th>\n",
       "      <th>Price</th>\n",
       "      <th>Average Rating</th>\n",
       "      <th>Number of Ratings</th>\n",
       "    </tr>\n",
       "  </thead>\n",
       "  <tbody>\n",
       "    <tr>\n",
       "      <th>count</th>\n",
       "      <td>8.500000e+01</td>\n",
       "      <td>85.000000</td>\n",
       "      <td>85.000000</td>\n",
       "      <td>85.000000</td>\n",
       "    </tr>\n",
       "    <tr>\n",
       "      <th>mean</th>\n",
       "      <td>5.735232e+07</td>\n",
       "      <td>255.744809</td>\n",
       "      <td>3.078353</td>\n",
       "      <td>363.952941</td>\n",
       "    </tr>\n",
       "    <tr>\n",
       "      <th>std</th>\n",
       "      <td>1.734892e+08</td>\n",
       "      <td>136.802758</td>\n",
       "      <td>0.919837</td>\n",
       "      <td>135.211378</td>\n",
       "    </tr>\n",
       "    <tr>\n",
       "      <th>min</th>\n",
       "      <td>0.000000e+00</td>\n",
       "      <td>11.188721</td>\n",
       "      <td>1.600000</td>\n",
       "      <td>88.000000</td>\n",
       "    </tr>\n",
       "    <tr>\n",
       "      <th>25%</th>\n",
       "      <td>4.150000e+02</td>\n",
       "      <td>143.885504</td>\n",
       "      <td>2.320000</td>\n",
       "      <td>283.000000</td>\n",
       "    </tr>\n",
       "    <tr>\n",
       "      <th>50%</th>\n",
       "      <td>2.166680e+05</td>\n",
       "      <td>273.869747</td>\n",
       "      <td>2.990000</td>\n",
       "      <td>374.000000</td>\n",
       "    </tr>\n",
       "    <tr>\n",
       "      <th>75%</th>\n",
       "      <td>1.286754e+07</td>\n",
       "      <td>353.204908</td>\n",
       "      <td>3.870000</td>\n",
       "      <td>475.000000</td>\n",
       "    </tr>\n",
       "    <tr>\n",
       "      <th>max</th>\n",
       "      <td>8.747698e+08</td>\n",
       "      <td>499.733330</td>\n",
       "      <td>4.720000</td>\n",
       "      <td>591.000000</td>\n",
       "    </tr>\n",
       "  </tbody>\n",
       "</table>\n",
       "</div>"
      ],
      "text/plain": [
       "         Product ID       Price  Average Rating  Number of Ratings\n",
       "count  8.500000e+01   85.000000       85.000000          85.000000\n",
       "mean   5.735232e+07  255.744809        3.078353         363.952941\n",
       "std    1.734892e+08  136.802758        0.919837         135.211378\n",
       "min    0.000000e+00   11.188721        1.600000          88.000000\n",
       "25%    4.150000e+02  143.885504        2.320000         283.000000\n",
       "50%    2.166680e+05  273.869747        2.990000         374.000000\n",
       "75%    1.286754e+07  353.204908        3.870000         475.000000\n",
       "max    8.747698e+08  499.733330        4.720000         591.000000"
      ]
     },
     "execution_count": 9,
     "metadata": {},
     "output_type": "execute_result"
    }
   ],
   "source": [
    "df_Product.describe()"
   ]
  },
  {
   "cell_type": "code",
   "execution_count": 10,
   "id": "987dd73e",
   "metadata": {},
   "outputs": [
    {
     "data": {
      "image/png": "[encoded data removed]",
      "text/plain": [
       "<Figure size 864x720 with 4 Axes>"
      ]
     },
     "metadata": {
      "needs_background": "light"
     },
     "output_type": "display_data"
    }
   ],
   "source": [
    "plt.figure(figsize=(12, 10))\n",
    "\n",
    "# Ploting Price Distribution\n",
    "plt.subplot(3, 2, 1)\n",
    "sns.histplot(df_Product['Price'], bins=10, kde=True)\n",
    "plt.title('Price Distribution')\n",
    "\n",
    "# Ploting Average Rating Distribution\n",
    "plt.subplot(3, 2, 2)\n",
    "sns.histplot(df_Product['Average Rating'], bins=10, kde=True)\n",
    "plt.title('Average Rating Distribution')\n",
    "\n",
    "# Ploting Number of Ratings Distribution\n",
    "plt.subplot(3, 2, 3)\n",
    "sns.histplot(df_Product['Number of Ratings'], bins=10, kde=True)\n",
    "plt.title('Number of Ratings Distribution')\n",
    "\n",
    "# Ploting Availability Distribution\n",
    "plt.subplot(3, 2, 5)\n",
    "sns.countplot(data=df_Product, x='Availability')\n",
    "plt.title('Availability Distribution')\n",
    "\n",
    "plt.tight_layout()\n",
    "plt.show()"
   ]
  },
  {
   "cell_type": "code",
   "execution_count": 11,
   "id": "e2286c12",
   "metadata": {},
   "outputs": [
    {
     "data": {
      "image/png": "[encoded data removed]",
      "text/plain": [
       "<Figure size 720x432 with 2 Axes>"
      ]
     },
     "metadata": {
      "needs_background": "light"
     },
     "output_type": "display_data"
    }
   ],
   "source": [
    "plt.figure(figsize=(10, 6))\n",
    "\n",
    "# Scatter plot for Price vs Average Rating\n",
    "plt.subplot(1, 2, 1)\n",
    "sns.scatterplot(data=df_Product, x='Price', y='Average Rating')\n",
    "plt.title('Scatter Plot: Price vs Average Rating')\n",
    "\n",
    "# Scatter plot for Number of Ratings vs Price\n",
    "plt.subplot(1, 2, 2)\n",
    "sns.scatterplot(data=df_Product, x='Number of Ratings', y='Price')\n",
    "plt.title('Scatter Plot: Number of Ratings vs Price')\n",
    "\n",
    "plt.tight_layout()\n",
    "plt.show()"
   ]
  },
  {
   "cell_type": "code",
   "execution_count": 12,
   "id": "3efa8eb7",
   "metadata": {},
   "outputs": [
    {
     "data": {
      "image/png": "[encoded data removed]",
      "text/plain": [
       "<Figure size 3600x4320 with 1 Axes>"
      ]
     },
     "metadata": {
      "needs_background": "light"
     },
     "output_type": "display_data"
    }
   ],
   "source": [
    "# Ploting Brand Distribution\n",
    "plt.figure(figsize=(50, 60))\n",
    "plt.subplot(3, 2, 4)\n",
    "sns.countplot(data=df_Product, y='Brand', order=df_Product['Brand'].value_counts().index)\n",
    "plt.title('Brand Distribution')\n",
    "plt.show()"
   ]
  },
  {
   "cell_type": "markdown",
   "id": "bb1a562a",
   "metadata": {},
   "source": [
    "# User Interaction"
   ]
  },
  {
   "cell_type": "code",
   "execution_count": 13,
   "id": "88aac00c",
   "metadata": {},
   "outputs": [
    {
     "data": {
      "text/html": [
       "<div>\n",
       "<style scoped>\n",
       "    .dataframe tbody tr th:only-of-type {\n",
       "        vertical-align: middle;\n",
       "    }\n",
       "\n",
       "    .dataframe tbody tr th {\n",
       "        vertical-align: top;\n",
       "    }\n",
       "\n",
       "    .dataframe thead th {\n",
       "        text-align: right;\n",
       "    }\n",
       "</style>\n",
       "<table border=\"1\" class=\"dataframe\">\n",
       "  <thead>\n",
       "    <tr style=\"text-align: right;\">\n",
       "      <th></th>\n",
       "      <th>Interaction ID</th>\n",
       "      <th>User ID</th>\n",
       "      <th>Product ID</th>\n",
       "      <th>Interaction Type</th>\n",
       "      <th>Interaction Timestamp</th>\n",
       "    </tr>\n",
       "  </thead>\n",
       "  <tbody>\n",
       "    <tr>\n",
       "      <th>0</th>\n",
       "      <td>0</td>\n",
       "      <td>0</td>\n",
       "      <td>7002</td>\n",
       "      <td>Added to Cart</td>\n",
       "      <td>2023-04-10 02:45:26</td>\n",
       "    </tr>\n",
       "    <tr>\n",
       "      <th>1</th>\n",
       "      <td>1</td>\n",
       "      <td>0</td>\n",
       "      <td>6251</td>\n",
       "      <td>Viewed</td>\n",
       "      <td>2023-04-03 23:20:31</td>\n",
       "    </tr>\n",
       "    <tr>\n",
       "      <th>2</th>\n",
       "      <td>2</td>\n",
       "      <td>0</td>\n",
       "      <td>10</td>\n",
       "      <td>Added to Cart</td>\n",
       "      <td>2023-04-24 12:41:21</td>\n",
       "    </tr>\n",
       "    <tr>\n",
       "      <th>3</th>\n",
       "      <td>3</td>\n",
       "      <td>0</td>\n",
       "      <td>4336456</td>\n",
       "      <td>Added to Cart</td>\n",
       "      <td>2023-01-04 19:37:12</td>\n",
       "    </tr>\n",
       "    <tr>\n",
       "      <th>4</th>\n",
       "      <td>4</td>\n",
       "      <td>0</td>\n",
       "      <td>69</td>\n",
       "      <td>Purchased</td>\n",
       "      <td>2023-02-26 23:01:59</td>\n",
       "    </tr>\n",
       "  </tbody>\n",
       "</table>\n",
       "</div>"
      ],
      "text/plain": [
       "   Interaction ID  User ID  Product ID Interaction Type Interaction Timestamp\n",
       "0               0        0        7002    Added to Cart   2023-04-10 02:45:26\n",
       "1               1        0        6251           Viewed   2023-04-03 23:20:31\n",
       "2               2        0          10    Added to Cart   2023-04-24 12:41:21\n",
       "3               3        0     4336456    Added to Cart   2023-01-04 19:37:12\n",
       "4               4        0          69        Purchased   2023-02-26 23:01:59"
      ]
     },
     "execution_count": 13,
     "metadata": {},
     "output_type": "execute_result"
    }
   ],
   "source": [
    "df_Interaction.head()"
   ]
  },
  {
   "cell_type": "code",
   "execution_count": 14,
   "id": "37dd16a8",
   "metadata": {},
   "outputs": [
    {
     "name": "stdout",
     "output_type": "stream",
     "text": [
      "<class 'pandas.core.frame.DataFrame'>\n",
      "RangeIndex: 28008 entries, 0 to 28007\n",
      "Data columns (total 5 columns):\n",
      " #   Column                 Non-Null Count  Dtype \n",
      "---  ------                 --------------  ----- \n",
      " 0   Interaction ID         28008 non-null  int64 \n",
      " 1   User ID                28008 non-null  int64 \n",
      " 2   Product ID             28008 non-null  int64 \n",
      " 3   Interaction Type       28008 non-null  object\n",
      " 4   Interaction Timestamp  28008 non-null  object\n",
      "dtypes: int64(3), object(2)\n",
      "memory usage: 1.1+ MB\n"
     ]
    }
   ],
   "source": [
    "df_Interaction.info()"
   ]
  },
  {
   "cell_type": "code",
   "execution_count": 15,
   "id": "bb116366",
   "metadata": {},
   "outputs": [
    {
     "data": {
      "text/html": [
       "<div>\n",
       "<style scoped>\n",
       "    .dataframe tbody tr th:only-of-type {\n",
       "        vertical-align: middle;\n",
       "    }\n",
       "\n",
       "    .dataframe tbody tr th {\n",
       "        vertical-align: top;\n",
       "    }\n",
       "\n",
       "    .dataframe thead th {\n",
       "        text-align: right;\n",
       "    }\n",
       "</style>\n",
       "<table border=\"1\" class=\"dataframe\">\n",
       "  <thead>\n",
       "    <tr style=\"text-align: right;\">\n",
       "      <th></th>\n",
       "      <th>Interaction ID</th>\n",
       "      <th>User ID</th>\n",
       "      <th>Product ID</th>\n",
       "    </tr>\n",
       "  </thead>\n",
       "  <tbody>\n",
       "    <tr>\n",
       "      <th>count</th>\n",
       "      <td>28008.000000</td>\n",
       "      <td>28008.000000</td>\n",
       "      <td>2.800800e+04</td>\n",
       "    </tr>\n",
       "    <tr>\n",
       "      <th>mean</th>\n",
       "      <td>14003.500000</td>\n",
       "      <td>498.707084</td>\n",
       "      <td>5.767216e+07</td>\n",
       "    </tr>\n",
       "    <tr>\n",
       "      <th>std</th>\n",
       "      <td>8085.357506</td>\n",
       "      <td>289.181287</td>\n",
       "      <td>1.698873e+08</td>\n",
       "    </tr>\n",
       "    <tr>\n",
       "      <th>min</th>\n",
       "      <td>0.000000</td>\n",
       "      <td>0.000000</td>\n",
       "      <td>0.000000e+00</td>\n",
       "    </tr>\n",
       "    <tr>\n",
       "      <th>25%</th>\n",
       "      <td>7001.750000</td>\n",
       "      <td>247.000000</td>\n",
       "      <td>4.150000e+02</td>\n",
       "    </tr>\n",
       "    <tr>\n",
       "      <th>50%</th>\n",
       "      <td>14003.500000</td>\n",
       "      <td>497.000000</td>\n",
       "      <td>3.294720e+05</td>\n",
       "    </tr>\n",
       "    <tr>\n",
       "      <th>75%</th>\n",
       "      <td>21005.250000</td>\n",
       "      <td>749.000000</td>\n",
       "      <td>1.928989e+07</td>\n",
       "    </tr>\n",
       "    <tr>\n",
       "      <th>max</th>\n",
       "      <td>28007.000000</td>\n",
       "      <td>999.000000</td>\n",
       "      <td>8.747698e+08</td>\n",
       "    </tr>\n",
       "  </tbody>\n",
       "</table>\n",
       "</div>"
      ],
      "text/plain": [
       "       Interaction ID       User ID    Product ID\n",
       "count    28008.000000  28008.000000  2.800800e+04\n",
       "mean     14003.500000    498.707084  5.767216e+07\n",
       "std       8085.357506    289.181287  1.698873e+08\n",
       "min          0.000000      0.000000  0.000000e+00\n",
       "25%       7001.750000    247.000000  4.150000e+02\n",
       "50%      14003.500000    497.000000  3.294720e+05\n",
       "75%      21005.250000    749.000000  1.928989e+07\n",
       "max      28007.000000    999.000000  8.747698e+08"
      ]
     },
     "execution_count": 15,
     "metadata": {},
     "output_type": "execute_result"
    }
   ],
   "source": [
    "df_Interaction.describe()"
   ]
  },
  {
   "cell_type": "code",
   "execution_count": 16,
   "id": "13f16547",
   "metadata": {},
   "outputs": [
    {
     "data": {
      "image/png": "[encoded data removed]",
      "text/plain": [
       "<Figure size 864x576 with 1 Axes>"
      ]
     },
     "metadata": {
      "needs_background": "light"
     },
     "output_type": "display_data"
    }
   ],
   "source": [
    "plt.figure(figsize=(12, 8))\n",
    "\n",
    "# Count plot for Interaction Type\n",
    "plt.subplot(2, 2, 1)\n",
    "sns.countplot(data=df_Interaction, y='Interaction Type', order=df_Interaction['Interaction Type'].value_counts().index)\n",
    "plt.title('Interaction Type Distribution')\n",
    "\n",
    "plt.tight_layout()\n",
    "plt.show()"
   ]
  },
  {
   "cell_type": "markdown",
   "id": "bc7aef6c",
   "metadata": {},
   "source": [
    "# User Purchase History"
   ]
  },
  {
   "cell_type": "code",
   "execution_count": 17,
   "id": "dceb802e",
   "metadata": {},
   "outputs": [
    {
     "data": {
      "text/html": [
       "<div>\n",
       "<style scoped>\n",
       "    .dataframe tbody tr th:only-of-type {\n",
       "        vertical-align: middle;\n",
       "    }\n",
       "\n",
       "    .dataframe tbody tr th {\n",
       "        vertical-align: top;\n",
       "    }\n",
       "\n",
       "    .dataframe thead th {\n",
       "        text-align: right;\n",
       "    }\n",
       "</style>\n",
       "<table border=\"1\" class=\"dataframe\">\n",
       "  <thead>\n",
       "    <tr style=\"text-align: right;\">\n",
       "      <th></th>\n",
       "      <th>Purchase ID</th>\n",
       "      <th>User ID</th>\n",
       "      <th>Product ID</th>\n",
       "      <th>Purchase Timestamp</th>\n",
       "      <th>Rating</th>\n",
       "    </tr>\n",
       "  </thead>\n",
       "  <tbody>\n",
       "    <tr>\n",
       "      <th>0</th>\n",
       "      <td>9580</td>\n",
       "      <td>0</td>\n",
       "      <td>69</td>\n",
       "      <td>2023-08-13 02:45:24</td>\n",
       "      <td>3.29</td>\n",
       "    </tr>\n",
       "    <tr>\n",
       "      <th>1</th>\n",
       "      <td>72661623</td>\n",
       "      <td>0</td>\n",
       "      <td>1585832</td>\n",
       "      <td>2023-08-19 01:07:37</td>\n",
       "      <td>4.47</td>\n",
       "    </tr>\n",
       "    <tr>\n",
       "      <th>2</th>\n",
       "      <td>421</td>\n",
       "      <td>1</td>\n",
       "      <td>42051164</td>\n",
       "      <td>2023-06-30 04:32:29</td>\n",
       "      <td>4.79</td>\n",
       "    </tr>\n",
       "    <tr>\n",
       "      <th>3</th>\n",
       "      <td>855875</td>\n",
       "      <td>1</td>\n",
       "      <td>6802</td>\n",
       "      <td>2023-04-27 11:30:05</td>\n",
       "      <td>4.34</td>\n",
       "    </tr>\n",
       "    <tr>\n",
       "      <th>4</th>\n",
       "      <td>294</td>\n",
       "      <td>1</td>\n",
       "      <td>871989</td>\n",
       "      <td>2023-05-24 02:49:48</td>\n",
       "      <td>3.51</td>\n",
       "    </tr>\n",
       "  </tbody>\n",
       "</table>\n",
       "</div>"
      ],
      "text/plain": [
       "   Purchase ID  User ID  Product ID   Purchase Timestamp  Rating\n",
       "0         9580        0          69  2023-08-13 02:45:24    3.29\n",
       "1     72661623        0     1585832  2023-08-19 01:07:37    4.47\n",
       "2          421        1    42051164  2023-06-30 04:32:29    4.79\n",
       "3       855875        1        6802  2023-04-27 11:30:05    4.34\n",
       "4          294        1      871989  2023-05-24 02:49:48    3.51"
      ]
     },
     "execution_count": 17,
     "metadata": {},
     "output_type": "execute_result"
    }
   ],
   "source": [
    "df_Purchases.head()"
   ]
  },
  {
   "cell_type": "code",
   "execution_count": 18,
   "id": "dc7840f1",
   "metadata": {},
   "outputs": [
    {
     "name": "stdout",
     "output_type": "stream",
     "text": [
      "<class 'pandas.core.frame.DataFrame'>\n",
      "RangeIndex: 7168 entries, 0 to 7167\n",
      "Data columns (total 5 columns):\n",
      " #   Column              Non-Null Count  Dtype  \n",
      "---  ------              --------------  -----  \n",
      " 0   Purchase ID         7168 non-null   int64  \n",
      " 1   User ID             7168 non-null   int64  \n",
      " 2   Product ID          7168 non-null   int64  \n",
      " 3   Purchase Timestamp  7168 non-null   object \n",
      " 4   Rating              7168 non-null   float64\n",
      "dtypes: float64(1), int64(3), object(1)\n",
      "memory usage: 280.1+ KB\n"
     ]
    }
   ],
   "source": [
    "df_Purchases.info()"
   ]
  },
  {
   "cell_type": "code",
   "execution_count": 19,
   "id": "e0b50584",
   "metadata": {},
   "outputs": [
    {
     "data": {
      "text/html": [
       "<div>\n",
       "<style scoped>\n",
       "    .dataframe tbody tr th:only-of-type {\n",
       "        vertical-align: middle;\n",
       "    }\n",
       "\n",
       "    .dataframe tbody tr th {\n",
       "        vertical-align: top;\n",
       "    }\n",
       "\n",
       "    .dataframe thead th {\n",
       "        text-align: right;\n",
       "    }\n",
       "</style>\n",
       "<table border=\"1\" class=\"dataframe\">\n",
       "  <thead>\n",
       "    <tr style=\"text-align: right;\">\n",
       "      <th></th>\n",
       "      <th>Purchase ID</th>\n",
       "      <th>User ID</th>\n",
       "      <th>Product ID</th>\n",
       "      <th>Rating</th>\n",
       "    </tr>\n",
       "  </thead>\n",
       "  <tbody>\n",
       "    <tr>\n",
       "      <th>count</th>\n",
       "      <td>7.168000e+03</td>\n",
       "      <td>7168.000000</td>\n",
       "      <td>7.168000e+03</td>\n",
       "      <td>7168.000000</td>\n",
       "    </tr>\n",
       "    <tr>\n",
       "      <th>mean</th>\n",
       "      <td>8.165198e+07</td>\n",
       "      <td>493.885603</td>\n",
       "      <td>5.630707e+07</td>\n",
       "      <td>2.999918</td>\n",
       "    </tr>\n",
       "    <tr>\n",
       "      <th>std</th>\n",
       "      <td>2.077536e+08</td>\n",
       "      <td>286.968595</td>\n",
       "      <td>1.664563e+08</td>\n",
       "      <td>1.156503</td>\n",
       "    </tr>\n",
       "    <tr>\n",
       "      <th>min</th>\n",
       "      <td>7.000000e+00</td>\n",
       "      <td>0.000000</td>\n",
       "      <td>0.000000e+00</td>\n",
       "      <td>1.000000</td>\n",
       "    </tr>\n",
       "    <tr>\n",
       "      <th>25%</th>\n",
       "      <td>1.157850e+04</td>\n",
       "      <td>245.000000</td>\n",
       "      <td>3.220000e+02</td>\n",
       "      <td>1.980000</td>\n",
       "    </tr>\n",
       "    <tr>\n",
       "      <th>50%</th>\n",
       "      <td>6.736005e+05</td>\n",
       "      <td>491.000000</td>\n",
       "      <td>3.294720e+05</td>\n",
       "      <td>3.010000</td>\n",
       "    </tr>\n",
       "    <tr>\n",
       "      <th>75%</th>\n",
       "      <td>2.862504e+07</td>\n",
       "      <td>742.000000</td>\n",
       "      <td>1.928989e+07</td>\n",
       "      <td>3.990000</td>\n",
       "    </tr>\n",
       "    <tr>\n",
       "      <th>max</th>\n",
       "      <td>9.996751e+08</td>\n",
       "      <td>999.000000</td>\n",
       "      <td>8.747698e+08</td>\n",
       "      <td>5.000000</td>\n",
       "    </tr>\n",
       "  </tbody>\n",
       "</table>\n",
       "</div>"
      ],
      "text/plain": [
       "        Purchase ID      User ID    Product ID       Rating\n",
       "count  7.168000e+03  7168.000000  7.168000e+03  7168.000000\n",
       "mean   8.165198e+07   493.885603  5.630707e+07     2.999918\n",
       "std    2.077536e+08   286.968595  1.664563e+08     1.156503\n",
       "min    7.000000e+00     0.000000  0.000000e+00     1.000000\n",
       "25%    1.157850e+04   245.000000  3.220000e+02     1.980000\n",
       "50%    6.736005e+05   491.000000  3.294720e+05     3.010000\n",
       "75%    2.862504e+07   742.000000  1.928989e+07     3.990000\n",
       "max    9.996751e+08   999.000000  8.747698e+08     5.000000"
      ]
     },
     "execution_count": 19,
     "metadata": {},
     "output_type": "execute_result"
    }
   ],
   "source": [
    "df_Purchases.describe()"
   ]
  },
  {
   "cell_type": "code",
   "execution_count": 20,
   "id": "c6f04074",
   "metadata": {},
   "outputs": [
    {
     "data": {
      "image/png": "[encoded data removed]",
      "text/plain": [
       "<Figure size 864x720 with 1 Axes>"
      ]
     },
     "metadata": {
      "needs_background": "light"
     },
     "output_type": "display_data"
    }
   ],
   "source": [
    "df_Purchases = df_Purchases[df_Purchases['User ID'] <= 100]\n",
    "\n",
    "avg_rating = df_Purchases.groupby('User ID')['Rating'].mean()\n",
    "\n",
    "# Ploting the bar graph for average rating of user given\n",
    "plt.figure(figsize=(12, 10))\n",
    "\n",
    "avg_rating.plot(kind='bar')\n",
    "plt.title('Average Rating by User')\n",
    "plt.xlabel('User ID')\n",
    "plt.ylabel('Average Rating')\n",
    "plt.show()"
   ]
  }
 ],
 "metadata": {
  "kernelspec": {
   "display_name": "Python 3 (ipykernel)",
   "language": "python",
   "name": "python3"
  },
  "language_info": {
   "codemirror_mode": {
    "name": "ipython",
    "version": 3
   },
   "file_extension": ".py",
   "mimetype": "text/x-python",
   "name": "python",
   "nbconvert_exporter": "python",
   "pygments_lexer": "ipython3",
   "version": "3.10.4"
  }
 },
 "nbformat": 4,
 "nbformat_minor": 5
}
