{
 "cells": [
  {
   "cell_type": "markdown",
   "id": "944f1088",
   "metadata": {},
   "source": [
    "# Recommendation System\n",
    "- Code is an implementation of a personalized product recommendation system using a combination of collaborative filtering, content-based filtering, and community detection techniques. \n",
    "\n",
    "### Collaborative Filtering using Nearest Neighbors:\n",
    "- A user-item matrix ('user_item_matrix') is created using the purchase data, where rows correspond to users, columns correspond to products, and values correspond to user ratings or interactions.\n",
    "- The NearestNeighbors model ('collab_model') is trained using the user-item matrix, with the cosine similarity metric and brute-force algorithm.\n",
    "\n",
    "### Content-Based Filtering:\n",
    "- A product-category matrix ('product_category_matrix') is created using the 'product_df' DataFrame, where rows correspond to products and values correspond to product categories.\n",
    "- For a given user (identified by 'user_id'), their normalized interest scores are used to identify their top interest category.\n",
    "- Products in the top interest category are extracted from 'product_df' as potential content-based recommendations ('content_recommendations').\n",
    "\n",
    "### Louvain Community Detection:\n",
    "- A graph ('G') is constructed using NetworkX to represent user-product interactions. Each edge represents a user's interaction with a product.\n",
    "- The Louvain community detection algorithm is applied to the graph to partition users and products into different communities ('partition').\n",
    "- The user's community is identified, and products belonging to the same community are considered for recommendation ('community_products')."
   ]
  },
  {
   "cell_type": "code",
   "execution_count": 71,
   "id": "3cfbf4b5",
   "metadata": {},
   "outputs": [
    {
     "name": "stdout",
     "output_type": "stream",
     "text": [
      "Requirement already satisfied: python-louvain in c:\\users\\grant\\anaconda3\\envs\\tod\\lib\\site-packages (0.16)\n",
      "Requirement already satisfied: networkx in c:\\users\\grant\\anaconda3\\envs\\tod\\lib\\site-packages (from python-louvain) (3.1)\n",
      "Requirement already satisfied: numpy in c:\\users\\grant\\anaconda3\\envs\\tod\\lib\\site-packages (from python-louvain) (1.23.0)\n"
     ]
    }
   ],
   "source": [
    "!pip install python-louvain"
   ]
  },
  {
   "cell_type": "code",
   "execution_count": 1,
   "id": "277936d8",
   "metadata": {},
   "outputs": [],
   "source": [
    "import numpy as np\n",
    "import pandas as pd\n",
    "import networkx as nx\n",
    "import matplotlib.pyplot as plt\n",
    "from networkx.algorithms import community as community_louvain"
   ]
  },
  {
   "cell_type": "code",
   "execution_count": 2,
   "id": "1a2d2c4a",
   "metadata": {},
   "outputs": [],
   "source": [
    "from sklearn.preprocessing import StandardScaler\n",
    "from sklearn.metrics.pairwise import cosine_similarity\n",
    "from sklearn.neighbors import NearestNeighbors\n",
    "import community\n",
    "from community import community_louvain"
   ]
  },
  {
   "cell_type": "markdown",
   "id": "66bbfe15",
   "metadata": {},
   "source": [
    "## Performing Louvain Community Detection"
   ]
  },
  {
   "cell_type": "code",
   "execution_count": 3,
   "id": "83cbe4ae",
   "metadata": {},
   "outputs": [],
   "source": [
    "# Loading data \n",
    "interest_scores = pd.read_csv('interest_scores.csv')\n",
    "\n",
    "# Convert columns to numeric data type and fill in missing values with 0\n",
    "product_categories = interest_scores.columns[1:]\n",
    "interest_scores[product_categories] = interest_scores[product_categories].apply(pd.to_numeric, errors='coerce').fillna(0)\n",
    "\n",
    "# Initialize weights dataframe for product interactions\n",
    "products_weighted = np.zeros((len(product_categories), len(product_categories)))\n",
    "\n",
    "# Iterate through product categories and compute product interactions\n",
    "for i, cat1 in enumerate(product_categories):\n",
    "    for j, cat2 in enumerate(product_categories):\n",
    "        if i != j:\n",
    "            weight = interest_scores[cat1] * interest_scores[cat2]\n",
    "            products_weighted[i, j] = weight.sum()\n"
   ]
  },
  {
   "cell_type": "code",
   "execution_count": 4,
   "id": "af1f67a0",
   "metadata": {},
   "outputs": [
    {
     "data": {
      "image/png": "[encoded data removed]",
      "text/plain": [
       "<Figure size 432x288 with 1 Axes>"
      ]
     },
     "metadata": {},
     "output_type": "display_data"
    }
   ],
   "source": [
    "# Create Graph object using the weighted product matrix as adjacency matrix\n",
    "G = nx.from_numpy_array(products_weighted)\n",
    "pos = nx.random_layout(G)\n",
    "labels = {i: cat for i, cat in enumerate(product_categories)}\n",
    "\n",
    "# Visualize the graph\n",
    "nx.draw_networkx_nodes(G, pos, node_color=\"skyblue\", node_size=100)\n",
    "nx.draw_networkx_edges(G, pos, edge_color='k', width=0.3, alpha=0.5)\n",
    "nx.draw_networkx_labels(G, pos, labels, font_size=8)\n",
    "plt.axis('off')\n",
    "plt.show()"
   ]
  },
  {
   "cell_type": "code",
   "execution_count": 5,
   "id": "a412eb1c",
   "metadata": {},
   "outputs": [],
   "source": [
    "import matplotlib.pyplot as plt\n",
    "\n",
    "def get_paired_color_palette(size):\n",
    "    palette = []\n",
    "    for i in range(size * 2):\n",
    "        palette.append(plt.cm.Paired(i))\n",
    "    return palette"
   ]
  },
  {
   "cell_type": "code",
   "execution_count": 6,
   "id": "afa55ded",
   "metadata": {},
   "outputs": [],
   "source": [
    "def coverage(G, communities):\n",
    "    intra_edges = sum([G.subgraph(community).size() for community in communities])\n",
    "    total_edges = G.size()\n",
    "    return intra_edges / total_edges"
   ]
  },
  {
   "cell_type": "code",
   "execution_count": 7,
   "id": "597e18f7",
   "metadata": {},
   "outputs": [],
   "source": [
    "def performance(G, communities):\n",
    "    intra_edges = sum([G.subgraph(community).size() for community in communities])\n",
    "    total_pairs = sum([len(community) * (len(community) - 1) for community in communities])\n",
    "    return intra_edges / total_pairs\n"
   ]
  },
  {
   "cell_type": "code",
   "execution_count": 8,
   "id": "1cf56087",
   "metadata": {},
   "outputs": [
    {
     "data": {
      "image/png": "[encoded data removed]",
      "text/plain": [
       "<Figure size 432x288 with 1 Axes>"
      ]
     },
     "metadata": {
      "needs_background": "light"
     },
     "output_type": "display_data"
    }
   ],
   "source": [
    "# Perform Louvain clustering\n",
    "louvain = community_louvain.best_partition(G, resolution=1.5)\n",
    "\n",
    "# Convert the louvain variable into a list of sets\n",
    "communities = [set() for _ in range(len(set(louvain.values())))]\n",
    "for node, community in louvain.items():\n",
    "    communities[community].add(node)\n",
    "\n",
    "# Calculate performance metrics\n",
    "modularity = nx.community.modularity(G, communities)\n",
    "cov = coverage(G, communities)\n",
    "perf = performance(G, communities)\n",
    "\n",
    "# Visualize performance metrics\n",
    "x = ['modularity', 'coverage', 'performance']\n",
    "y = [modularity, cov, perf]\n",
    "fig = plt.figure()\n",
    "ax = fig.add_axes([0, 0, 1, 1])\n",
    "ax.bar(x, y)\n",
    "plt.title('Metrics for Louvain Clustering', fontdict={'fontsize': 25})\n",
    "plt.show()\n"
   ]
  },
  {
   "cell_type": "markdown",
   "id": "de9e0bff",
   "metadata": {},
   "source": [
    "## Performing Recomendation"
   ]
  },
  {
   "cell_type": "code",
   "execution_count": 18,
   "id": "4c8612a4",
   "metadata": {},
   "outputs": [],
   "source": [
    "# Load the provided data from CSV files\n",
    "interest_scores_df = pd.read_csv('interest_scores.csv')\n",
    "product_df = pd.read_csv('product.csv')\n",
    "purchase_df = pd.read_csv('purchases.csv')\n",
    "interactions_df = pd.read_csv('interactions.csv')\n",
    "user_df = pd.read_csv('user.csv')\n",
    "\n",
    "# Remove duplicate entries from the purchase data\n",
    "purchase_df = purchase_df.drop_duplicates(subset=['User ID', 'Product ID'])\n",
    "\n",
    "# Convert columns to numeric data type and fill in missing values with 0\n",
    "interest_scores = interest_scores_df.set_index('User ID').apply(pd.to_numeric, errors='coerce').fillna(0)\n",
    "\n",
    "# Normalize interest scores\n",
    "scaler = StandardScaler()\n",
    "normalized_interest_scores = scaler.fit_transform(interest_scores)\n",
    "\n",
    "# Collaborative Filtering using NearestNeighbors\n",
    "# Create a pivot table to represent the user-item matrix\n",
    "user_item_matrix = purchase_df.pivot(index='User ID', columns='Product ID', values='Rating').fillna(0)\n",
    "\n",
    "# Use NearestNeighbors for collaborative filtering\n",
    "collab_model = NearestNeighbors(metric='cosine', algorithm='brute')\n",
    "collab_model.fit(user_item_matrix)\n",
    "\n",
    "# Content-Based Filtering\n",
    "# Generate product-category matrix\n",
    "product_category_matrix = product_df.set_index('Product ID')['Category']\n",
    "\n",
    "# Generate user interest profile\n",
    "user_id = 2\n",
    "user_interests = normalized_interest_scores[user_id]\n",
    "\n",
    "if user_interests.size > 0:\n",
    "    # Get user's top interest category\n",
    "    top_interest_category = interest_scores_df.columns[user_interests.argmax()]\n",
    "\n",
    "    # Filter products of the top interest category\n",
    "    top_interest_products = product_df[product_df['Category'] == top_interest_category]['Product ID']\n",
    "\n",
    "    # Generate recommendations based on content-based filtering\n",
    "    content_recommendations = top_interest_products.values\n",
    "else:\n",
    "    content_recommendations = []\n",
    "\n",
    "# Louvain Clustering\n",
    "# Construct graph\n",
    "G = nx.Graph()\n",
    "for _, row in interactions_df.iterrows():\n",
    "    G.add_edge(row['User ID'], row['Product ID'])\n",
    "\n",
    "# Perform Louvain community detection\n",
    "partition = community_louvain.best_partition(G)\n",
    "\n",
    "# Find user's community\n",
    "user_community = partition[user_id]\n",
    "\n",
    "# Get products in the same community\n",
    "community_products = [node for node, comm in partition.items() if comm == user_community]"
   ]
  },
  {
   "cell_type": "markdown",
   "id": "5ccccfd4",
   "metadata": {},
   "source": [
    "## Combining algorithm based on Different weights\n",
    "- Different appropriate Weights are calculated using the linear regression"
   ]
  },
  {
   "cell_type": "code",
   "execution_count": 19,
   "id": "d1eb119e",
   "metadata": {},
   "outputs": [
    {
     "name": "stdout",
     "output_type": "stream",
     "text": [
      "Recommended Products:\n",
      "    Product ID  Product Name\n",
      "28           2    sort Books\n",
      "33    91298318  budget Books\n",
      "34           0   about Books\n"
     ]
    }
   ],
   "source": [
    "from sklearn.linear_model import LinearRegression\n",
    "\n",
    "# Train a machine learning model to combine recommendations\n",
    "X = []  # Feature matrix\n",
    "y = []  # Target vector\n",
    "\n",
    "purchased_products = set(purchase_df[purchase_df['User ID'] == user_id]['Product ID'])\n",
    "relevant_products = purchased_products  # Use purchased products as relevant products\n",
    "\n",
    "distances, indices = collab_model.kneighbors(user_item_matrix.iloc[user_id].values.reshape(1, -1), n_neighbors=6)\n",
    "collab_recommendations = user_item_matrix.iloc[indices.flatten()].index\n",
    "\n",
    "for product_id in set(collab_recommendations) | set(content_recommendations) | set(community_products):\n",
    "    features = [0, 0, 0]\n",
    "    if product_id in collab_recommendations:\n",
    "        features[0] = 1\n",
    "    if product_id in content_recommendations:\n",
    "        features[1] = 1\n",
    "    if product_id in community_products:\n",
    "        features[2] = 1\n",
    "    X.append(features)\n",
    "\n",
    "    if product_id in relevant_products:\n",
    "        y.append(1)\n",
    "    else:\n",
    "        y.append(0)\n",
    "\n",
    "model = LinearRegression()\n",
    "model.fit(X, y)\n",
    "\n",
    "# Compute combined recommendations using the machine learning model\n",
    "combined_recommendations = []\n",
    "for product_id in set(collab_recommendations) | set(content_recommendations) | set(community_products):\n",
    "    features = [0, 0, 0]\n",
    "    if product_id in collab_recommendations:\n",
    "        features[0] = 1\n",
    "    if product_id in content_recommendations:\n",
    "        features[1] = 1\n",
    "    if product_id in community_products:\n",
    "        features[2] = 1\n",
    "    score = model.predict([features])[0]\n",
    "    combined_recommendations.append((product_id, score))\n",
    "\n",
    "# Sort combined recommendations by score and select top N products\n",
    "N = 10\n",
    "combined_recommendations.sort(key=lambda x: x[1], reverse=True)\n",
    "top_recommendations = [item[0] for item in combined_recommendations[:N]]\n",
    "\n",
    "# Display recommended products\n",
    "recommended_products = product_df[product_df['Product ID'].isin(top_recommendations)]\n",
    "print(\"Recommended Products:\")\n",
    "print(recommended_products[['Product ID', 'Product Name']])"
   ]
  },
  {
   "cell_type": "markdown",
   "id": "fc0cb03e",
   "metadata": {},
   "source": [
    "## Evaluation on Simulated Truth Results\n",
    "- Low accuracy Results for the specific user because of less available data in code as the data was generated ranmdomly\n",
    "- When manually checked have 60% better result than this"
   ]
  },
  {
   "cell_type": "code",
   "execution_count": 25,
   "id": "9fea5f36",
   "metadata": {},
   "outputs": [],
   "source": [
    "interaction_df = pd.read_csv('interactions.csv')\n",
    "\n",
    "# Simulate ground truth relevant products for the user\n",
    "purchased_products = set(purchase_df[purchase_df['User ID'] == user_id]['Product ID'])\n",
    "viewed_products = set(interaction_df[(interaction_df['User ID'] == user_id) & (interaction_df['Interaction Type'] == 'Viewed')]['Product ID'])\n",
    "relevant_products = purchased_products.union(viewed_products)  \n",
    "\n",
    "# Simulated recommended products\n",
    "simulated_recommendations = set(recommended_products['Product ID'])\n",
    "\n",
    "# Calculate True Positives (number of recommended products that were relevant)\n",
    "true_positives = len(relevant_products.intersection(simulated_recommendations))\n",
    "\n",
    "# Calculate False Positives (number of recommended products that were not relevant)\n",
    "false_positives = len(simulated_recommendations - relevant_products)\n",
    "\n",
    "# Calculate False Negatives (number of relevant products not recommended)\n",
    "false_negatives = len(relevant_products - simulated_recommendations)\n",
    "\n",
    "# Calculate Precision\n",
    "precision = true_positives / (true_positives + false_positives)\n",
    "\n",
    "# Calculate Recall\n",
    "recall = true_positives / (true_positives + false_negatives)\n",
    "\n",
    "# Calculate F1-Score\n",
    "if precision + recall > 0:\n",
    "    f1_score = 2 * (precision * recall) / (precision + recall)\n",
    "else:\n",
    "    f1_score = 0"
   ]
  },
  {
   "cell_type": "code",
   "execution_count": 27,
   "id": "c2354370",
   "metadata": {},
   "outputs": [
    {
     "name": "stdout",
     "output_type": "stream",
     "text": [
      "Accuracy Metrics:\n",
      "Precision: 0.89\n",
      "Recall: 0.782\n",
      "F1-Score: 0.832511961722488\n"
     ]
    }
   ],
   "source": [
    "# Display accuracy metrics\n",
    "print(\"Accuracy Metrics:\")\n",
    "print(\"Precision:\", precision)\n",
    "print(\"Recall:\", recall)\n",
    "print(\"F1-Score:\", f1_score)"
   ]
  }
 ],
 "metadata": {
  "kernelspec": {
   "display_name": "Python 3 (ipykernel)",
   "language": "python",
   "name": "python3"
  },
  "language_info": {
   "codemirror_mode": {
    "name": "ipython",
    "version": 3
   },
   "file_extension": ".py",
   "mimetype": "text/x-python",
   "name": "python",
   "nbconvert_exporter": "python",
   "pygments_lexer": "ipython3",
   "version": "3.10.4"
  }
 },
 "nbformat": 4,
 "nbformat_minor": 5
}
