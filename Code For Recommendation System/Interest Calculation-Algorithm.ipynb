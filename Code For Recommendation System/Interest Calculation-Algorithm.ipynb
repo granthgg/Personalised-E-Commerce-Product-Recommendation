{
 "cells": [
  {
   "cell_type": "markdown",
   "id": "9f3160c4",
   "metadata": {},
   "source": [
    "# Interest Score Calculation\n",
    "- In this a basic algorithm is proposed which is used to calculate the Interest score of user for each Product Category\n",
    "- This score is calculated on the basis of user previous interaction with products and their average rating to any products in that specific category\n",
    "- Different Weights are given to Different Interaction Type \n",
    "- A product Purchased is weighted more than product that are added to cart, and these are weighted more than just viewed products.\n",
    "- The final Interest Score is calculated by Combining the score of Interaction Type and average rating score to any category"
   ]
  },
  {
   "cell_type": "code",
   "execution_count": 11,
   "id": "63de50e1",
   "metadata": {},
   "outputs": [],
   "source": [
    "import pandas as pd\n",
    "\n",
    "# Load data into dataframes\n",
    "users = pd.read_csv('user.csv')\n",
    "products = pd.read_csv('product.csv')\n",
    "interactions = pd.read_csv('interactions.csv')\n",
    "purchases = pd.read_csv('purchases.csv')"
   ]
  },
  {
   "cell_type": "code",
   "execution_count": 12,
   "id": "0ee583cb",
   "metadata": {},
   "outputs": [],
   "source": [
    "# Merge dataframes to get all relevant information in one place\n",
    "df = pd.merge(interactions, users, on='User ID')\n",
    "df = pd.merge(df, products, on='Product ID')\n",
    "df = pd.merge(df, purchases, on=['User ID', 'Product ID'], how='left')\n",
    "\n",
    "# Defining weights for different interaction types\n",
    "weights = {'Viewed': 1, 'Added to Cart': 2, 'Purchased': 3}"
   ]
  },
  {
   "cell_type": "code",
   "execution_count": 16,
   "id": "5d67ceb4",
   "metadata": {},
   "outputs": [],
   "source": [
    "# Calculating weighted interest score for each user and product category\n",
    "df['Weighted Rating'] = df['Rating'] * df['Interaction Type'].map(weights)\n",
    "interest = df.groupby(['User ID', 'Category'])['Weighted Rating'].mean().reset_index()\n",
    "interest.columns = ['User ID', 'Category', 'Interest Score']"
   ]
  },
  {
   "cell_type": "code",
   "execution_count": 17,
   "id": "1645e154",
   "metadata": {},
   "outputs": [],
   "source": [
    "# Calculating average rating for each user and product category from purchases\n",
    "purchases_df = pd.merge(purchases, products, on='Product ID')\n",
    "purchases_df = purchases_df.groupby(['User ID', 'Category'])['Rating'].mean().reset_index()\n",
    "purchases_df.columns = ['User ID', 'Category', 'Avg Purchase Rating']"
   ]
  },
  {
   "cell_type": "code",
   "execution_count": 18,
   "id": "c454ee74",
   "metadata": {},
   "outputs": [],
   "source": [
    "# Merge interest scores and average purchase ratings\n",
    "interest = pd.merge(interest, purchases_df, on=['User ID', 'Category'], how='left')\n",
    "\n",
    "# Fill missing values with 0\n",
    "interest['Avg Purchase Rating'] = interest['Avg Purchase Rating'].fillna(0)\n",
    "\n",
    "# Calculate final interest score by taking the average of interest score and average purchase rating\n",
    "interest['Final Interest Score'] = (interest['Interest Score'] + interest['Avg Purchase Rating']) / 2\n",
    "\n",
    "# Save interest scores to file\n",
    "interest.to_csv('interest_scores.csv', index=False)"
   ]
  },
  {
   "cell_type": "code",
   "execution_count": 19,
   "id": "359f49e2",
   "metadata": {},
   "outputs": [
    {
     "name": "stdout",
     "output_type": "stream",
     "text": [
      "   User ID     Category  Interest Score  Avg Purchase Rating  \\\n",
      "0        0     Clothing           11.64                 3.88   \n",
      "1        0  Electronics             NaN                 0.00   \n",
      "2        0         Home             NaN                 0.00   \n",
      "\n",
      "   Final Interest Score  \n",
      "0                  7.76  \n",
      "1                   NaN  \n",
      "2                   NaN  \n"
     ]
    }
   ],
   "source": [
    "#Interest scores for user with ID \n",
    "user_interest = interest[interest['User ID'] == 0]\n",
    "print(user_interest)"
   ]
  },
  {
   "cell_type": "markdown",
   "id": "3d9d7004",
   "metadata": {},
   "source": [
    "# Interest Score Data Exploration"
   ]
  },
  {
   "cell_type": "code",
   "execution_count": 20,
   "id": "56f3f790",
   "metadata": {},
   "outputs": [],
   "source": [
    "import pandas as pd\n",
    "import matplotlib.pyplot as plt\n",
    "import seaborn as sns"
   ]
  },
  {
   "cell_type": "code",
   "execution_count": 21,
   "id": "33d519f2",
   "metadata": {},
   "outputs": [],
   "source": [
    "df_interest = pd.read_csv('interest_scores.csv')"
   ]
  },
  {
   "cell_type": "code",
   "execution_count": 22,
   "id": "7c6e5618",
   "metadata": {},
   "outputs": [
    {
     "data": {
      "text/html": [
       "<div>\n",
       "<style scoped>\n",
       "    .dataframe tbody tr th:only-of-type {\n",
       "        vertical-align: middle;\n",
       "    }\n",
       "\n",
       "    .dataframe tbody tr th {\n",
       "        vertical-align: top;\n",
       "    }\n",
       "\n",
       "    .dataframe thead th {\n",
       "        text-align: right;\n",
       "    }\n",
       "</style>\n",
       "<table border=\"1\" class=\"dataframe\">\n",
       "  <thead>\n",
       "    <tr style=\"text-align: right;\">\n",
       "      <th></th>\n",
       "      <th>User ID</th>\n",
       "      <th>Category</th>\n",
       "      <th>Interest Score</th>\n",
       "      <th>Avg Purchase Rating</th>\n",
       "      <th>Final Interest Score</th>\n",
       "    </tr>\n",
       "  </thead>\n",
       "  <tbody>\n",
       "    <tr>\n",
       "      <th>0</th>\n",
       "      <td>0</td>\n",
       "      <td>Clothing</td>\n",
       "      <td>11.640</td>\n",
       "      <td>3.880</td>\n",
       "      <td>7.7600</td>\n",
       "    </tr>\n",
       "    <tr>\n",
       "      <th>1</th>\n",
       "      <td>0</td>\n",
       "      <td>Electronics</td>\n",
       "      <td>NaN</td>\n",
       "      <td>0.000</td>\n",
       "      <td>NaN</td>\n",
       "    </tr>\n",
       "    <tr>\n",
       "      <th>2</th>\n",
       "      <td>0</td>\n",
       "      <td>Home</td>\n",
       "      <td>NaN</td>\n",
       "      <td>0.000</td>\n",
       "      <td>NaN</td>\n",
       "    </tr>\n",
       "    <tr>\n",
       "      <th>3</th>\n",
       "      <td>1</td>\n",
       "      <td>Beauty</td>\n",
       "      <td>9.625</td>\n",
       "      <td>3.618</td>\n",
       "      <td>6.6215</td>\n",
       "    </tr>\n",
       "    <tr>\n",
       "      <th>4</th>\n",
       "      <td>1</td>\n",
       "      <td>Books</td>\n",
       "      <td>10.530</td>\n",
       "      <td>3.510</td>\n",
       "      <td>7.0200</td>\n",
       "    </tr>\n",
       "  </tbody>\n",
       "</table>\n",
       "</div>"
      ],
      "text/plain": [
       "   User ID     Category  Interest Score  Avg Purchase Rating  \\\n",
       "0        0     Clothing          11.640                3.880   \n",
       "1        0  Electronics             NaN                0.000   \n",
       "2        0         Home             NaN                0.000   \n",
       "3        1       Beauty           9.625                3.618   \n",
       "4        1        Books          10.530                3.510   \n",
       "\n",
       "   Final Interest Score  \n",
       "0                7.7600  \n",
       "1                   NaN  \n",
       "2                   NaN  \n",
       "3                6.6215  \n",
       "4                7.0200  "
      ]
     },
     "execution_count": 22,
     "metadata": {},
     "output_type": "execute_result"
    }
   ],
   "source": [
    "df_interest.head()"
   ]
  },
  {
   "cell_type": "code",
   "execution_count": 23,
   "id": "fbe701af",
   "metadata": {},
   "outputs": [
    {
     "name": "stdout",
     "output_type": "stream",
     "text": [
      "<class 'pandas.core.frame.DataFrame'>\n",
      "RangeIndex: 3610 entries, 0 to 3609\n",
      "Data columns (total 5 columns):\n",
      " #   Column                Non-Null Count  Dtype  \n",
      "---  ------                --------------  -----  \n",
      " 0   User ID               3610 non-null   int64  \n",
      " 1   Category              3610 non-null   object \n",
      " 2   Interest Score        2321 non-null   float64\n",
      " 3   Avg Purchase Rating   3610 non-null   float64\n",
      " 4   Final Interest Score  2321 non-null   float64\n",
      "dtypes: float64(3), int64(1), object(1)\n",
      "memory usage: 141.1+ KB\n"
     ]
    }
   ],
   "source": [
    "df_interest.info()"
   ]
  },
  {
   "cell_type": "code",
   "execution_count": 24,
   "id": "b23a6e04",
   "metadata": {},
   "outputs": [
    {
     "data": {
      "text/html": [
       "<div>\n",
       "<style scoped>\n",
       "    .dataframe tbody tr th:only-of-type {\n",
       "        vertical-align: middle;\n",
       "    }\n",
       "\n",
       "    .dataframe tbody tr th {\n",
       "        vertical-align: top;\n",
       "    }\n",
       "\n",
       "    .dataframe thead th {\n",
       "        text-align: right;\n",
       "    }\n",
       "</style>\n",
       "<table border=\"1\" class=\"dataframe\">\n",
       "  <thead>\n",
       "    <tr style=\"text-align: right;\">\n",
       "      <th></th>\n",
       "      <th>User ID</th>\n",
       "      <th>Interest Score</th>\n",
       "      <th>Avg Purchase Rating</th>\n",
       "      <th>Final Interest Score</th>\n",
       "    </tr>\n",
       "  </thead>\n",
       "  <tbody>\n",
       "    <tr>\n",
       "      <th>count</th>\n",
       "      <td>3610.000000</td>\n",
       "      <td>2321.000000</td>\n",
       "      <td>3610.000000</td>\n",
       "      <td>2321.000000</td>\n",
       "    </tr>\n",
       "    <tr>\n",
       "      <th>mean</th>\n",
       "      <td>497.998338</td>\n",
       "      <td>7.994842</td>\n",
       "      <td>1.927876</td>\n",
       "      <td>5.496695</td>\n",
       "    </tr>\n",
       "    <tr>\n",
       "      <th>std</th>\n",
       "      <td>288.773116</td>\n",
       "      <td>2.711448</td>\n",
       "      <td>1.599567</td>\n",
       "      <td>1.759525</td>\n",
       "    </tr>\n",
       "    <tr>\n",
       "      <th>min</th>\n",
       "      <td>0.000000</td>\n",
       "      <td>2.020000</td>\n",
       "      <td>0.000000</td>\n",
       "      <td>1.515000</td>\n",
       "    </tr>\n",
       "    <tr>\n",
       "      <th>25%</th>\n",
       "      <td>246.000000</td>\n",
       "      <td>6.030000</td>\n",
       "      <td>0.000000</td>\n",
       "      <td>4.300000</td>\n",
       "    </tr>\n",
       "    <tr>\n",
       "      <th>50%</th>\n",
       "      <td>496.000000</td>\n",
       "      <td>7.590000</td>\n",
       "      <td>2.355357</td>\n",
       "      <td>5.340000</td>\n",
       "    </tr>\n",
       "    <tr>\n",
       "      <th>75%</th>\n",
       "      <td>749.000000</td>\n",
       "      <td>9.697500</td>\n",
       "      <td>3.230000</td>\n",
       "      <td>6.586667</td>\n",
       "    </tr>\n",
       "    <tr>\n",
       "      <th>max</th>\n",
       "      <td>999.000000</td>\n",
       "      <td>15.000000</td>\n",
       "      <td>5.000000</td>\n",
       "      <td>10.000000</td>\n",
       "    </tr>\n",
       "  </tbody>\n",
       "</table>\n",
       "</div>"
      ],
      "text/plain": [
       "           User ID  Interest Score  Avg Purchase Rating  Final Interest Score\n",
       "count  3610.000000     2321.000000          3610.000000           2321.000000\n",
       "mean    497.998338        7.994842             1.927876              5.496695\n",
       "std     288.773116        2.711448             1.599567              1.759525\n",
       "min       0.000000        2.020000             0.000000              1.515000\n",
       "25%     246.000000        6.030000             0.000000              4.300000\n",
       "50%     496.000000        7.590000             2.355357              5.340000\n",
       "75%     749.000000        9.697500             3.230000              6.586667\n",
       "max     999.000000       15.000000             5.000000             10.000000"
      ]
     },
     "execution_count": 24,
     "metadata": {},
     "output_type": "execute_result"
    }
   ],
   "source": [
    "df_interest.describe()"
   ]
  }
 ],
 "metadata": {
  "kernelspec": {
   "display_name": "Python 3 (ipykernel)",
   "language": "python",
   "name": "python3"
  },
  "language_info": {
   "codemirror_mode": {
    "name": "ipython",
    "version": 3
   },
   "file_extension": ".py",
   "mimetype": "text/x-python",
   "name": "python",
   "nbconvert_exporter": "python",
   "pygments_lexer": "ipython3",
   "version": "3.10.4"
  }
 },
 "nbformat": 4,
 "nbformat_minor": 5
}
