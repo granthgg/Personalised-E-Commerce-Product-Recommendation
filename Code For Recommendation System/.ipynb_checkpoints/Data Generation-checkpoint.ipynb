{
 "cells": [
  {
   "cell_type": "markdown",
   "id": "6a2938f4",
   "metadata": {},
   "source": [
    "# Custom User Data Generation Script\n",
    "\n",
    "- To stimulate the E-Commerce data, A real-world like data is created using multiple conditions and varoius parameters. \n",
    "- In this a interest of user was prdefined in order to create relations between users interaction and purchase history. \n",
    "- But the interst was not used for further processing and creating of Recommendation System."
   ]
  },
  {
   "cell_type": "code",
   "execution_count": 1,
   "id": "978e2882",
   "metadata": {},
   "outputs": [
    {
     "name": "stdout",
     "output_type": "stream",
     "text": [
      "Requirement already satisfied: Faker in c:\\users\\grant\\anaconda3\\envs\\tod\\lib\\site-packages (19.3.0)\n",
      "Requirement already satisfied: python-dateutil>=2.4 in c:\\users\\grant\\anaconda3\\envs\\tod\\lib\\site-packages (from Faker) (2.8.2)\n",
      "Requirement already satisfied: six>=1.5 in c:\\users\\grant\\anaconda3\\envs\\tod\\lib\\site-packages (from python-dateutil>=2.4->Faker) (1.16.0)\n"
     ]
    }
   ],
   "source": [
    "!pip install Faker"
   ]
  },
  {
   "cell_type": "code",
   "execution_count": 2,
   "id": "90ef072f",
   "metadata": {},
   "outputs": [],
   "source": [
    "import random\n",
    "import pandas as pd\n",
    "from faker import Faker\n",
    "import numpy as np"
   ]
  },
  {
   "cell_type": "code",
   "execution_count": 3,
   "id": "68aeb01f",
   "metadata": {},
   "outputs": [],
   "source": [
    "num_users = 1000\n",
    "fake = Faker()\n",
    "\n",
    "user_profiles = []\n",
    "indian_states = ['Andhra Pradesh', 'Arunachal Pradesh', 'Assam', 'Bihar', 'Chhattisgarh', 'Goa', 'Gujarat', 'Haryana', 'Himachal Pradesh', 'Jharkhand', 'Karnataka', 'Kerala', 'Madhya Pradesh', 'Maharashtra', 'Manipur', 'Meghalaya', 'Mizoram', 'Nagaland', 'Odisha', 'Punjab', 'Rajasthan', 'Sikkim', 'Tamil Nadu', 'Telangana', 'Tripura', 'Uttar Pradesh', 'Uttarakhand', 'West Bengal']\n",
    "\n",
    "for user_id in range(num_users):\n",
    "    user_interests = random.sample(['Electronics', 'Clothing', 'Books', 'Beauty', 'Home'], random.randint(1, 3))\n",
    "    age = int(np.random.normal(39, 10))\n",
    "    age = max(18, min(age, 60))\n",
    "    gender = random.choices(['Male','Female','Other'], weights=[0.44,0.39,0.16], k=1)[0]\n",
    "    status = random.choices(['Free', 'Premium'], weights=[0.64,0.36])[0]\n",
    "\n",
    "    user_profiles.append({\n",
    "        'User ID': user_id,\n",
    "        'Age': age,\n",
    "        'Gender': gender,\n",
    "        'Location': random.choice(indian_states),\n",
    "        'Interests': ', '.join(user_interests),\n",
    "        'Subscription Status': status\n",
    "    })\n",
    "\n",
    "# Defining Product Features by Category\n",
    "product_features = {\n",
    "    'Electronics': ['4K resolution', 'Bluetooth connectivity', 'Wireless charging', 'Touchscreen display'],\n",
    "    'Clothing': ['100% cotton', 'Machine washable', 'Breathable fabric', 'Waterproof'],\n",
    "    'Books': ['Hardcover', 'Paperback', 'Audiobook available', 'E-book available'],\n",
    "    'Beauty': ['Cruelty-free', 'Paraben-free', 'Organic ingredients', 'Hypoallergenic'],\n",
    "    'Home': ['Energy-efficient', 'Smart home compatible', 'Easy to assemble', 'Durable']\n",
    "}\n",
    "\n",
    "# Generating Product Data\n",
    "product_categories = ['Electronics', 'Clothing', 'Books', 'Beauty', 'Home']\n",
    "brands = {category: [fake.company() for _ in range(5)] for category in product_categories}\n",
    "product_data = []\n",
    "for category in product_categories:\n",
    "    num_products = random.randint(10, 30)\n",
    "    for _ in range(num_products):\n",
    "        product_name = fake.word() + ' ' + category\n",
    "        features = ', '.join(random.sample(product_features[category], random.randint(1, len(product_features[category]))))\n",
    "        availability = random.choices(['In Stock', 'Out of Stock'], weights=[0.8, 0.2])[0]\n",
    "        brand = random.choice(brands[category])\n",
    "        product_data.append({\n",
    "            'Product ID': fake.unique.random_number(),\n",
    "            'Product Name': product_name,\n",
    "            'Category': category,\n",
    "            'Price': random.uniform(10, 500),\n",
    "            'Brand': brand,\n",
    "            'Features': features,\n",
    "            'Average Rating': round(random.uniform(1, 5), 2),\n",
    "            'Number of Ratings': random.randint(10, 500),\n",
    "            'Availability': availability\n",
    "        })\n",
    "\n",
    "\n",
    "# Generating User Interaction History\n",
    "interactions = []\n",
    "interaction_id = 0\n",
    "for user in user_profiles:\n",
    "    num_interactions = random.randint(5, 50)\n",
    "    for _ in range(num_interactions):\n",
    "        user_interests = user['Interests']\n",
    "        relevant_products = [product for product in product_data if product['Category'] in user_interests]\n",
    "        non_relevant_products = [product for product in product_data if product['Category'] not in user_interests]\n",
    "        if relevant_products:\n",
    "            # 90% chance to interact with a relevant product, 10% chance to interact with a non-relevant product\n",
    "            if random.random() < 0.9:\n",
    "                product = random.choice(relevant_products)\n",
    "            else:\n",
    "                product = random.choice(non_relevant_products)\n",
    "            interaction_type = random.choices(['Viewed', 'Purchased', 'Added to Cart'], weights=[0.45, 0.25, 0.3])[0]\n",
    "            interactions.append({\n",
    "                'Interaction ID': interaction_id,\n",
    "                'User ID': user['User ID'],\n",
    "                'Product ID': product['Product ID'],\n",
    "                'Interaction Type': interaction_type,\n",
    "                'Interaction Timestamp': fake.date_time_this_year(),\n",
    "            })\n",
    "            interaction_id += 1\n",
    "\n",
    "            \n",
    "# Generating User Purchase History\n",
    "purchases = []\n",
    "for interaction in interactions:\n",
    "    if interaction['Interaction Type'] == 'Purchased':\n",
    "        user_id = interaction['User ID']\n",
    "        product_id = interaction['Product ID']\n",
    "        rating = round(random.uniform(1, 5), 2)\n",
    "        purchases.append({\n",
    "            'Purchase ID': fake.unique.random_number(),\n",
    "            'User ID': user_id,\n",
    "            'Product ID': product_id,\n",
    "            'Purchase Timestamp': fake.date_time_this_year(),\n",
    "            'Rating': rating\n",
    "        })\n",
    "        # Updating average rating of the product\n",
    "        product = next(product for product in product_data if product['Product ID'] == product_id)\n",
    "        product['Average Rating'] = round((product['Average Rating'] * product['Number of Ratings'] + rating) / (product['Number of Ratings'] + 1), 2)\n",
    "        product['Number of Ratings'] += 1\n"
   ]
  },
  {
   "cell_type": "code",
   "execution_count": 4,
   "id": "e7770819",
   "metadata": {},
   "outputs": [],
   "source": [
    "# Converting data to dataframes\n",
    "user_profiles_df = pd.DataFrame(user_profiles)\n",
    "product_data_df = pd.DataFrame(product_data)\n",
    "interactions_df = pd.DataFrame(interactions)\n",
    "purchases_df = pd.DataFrame(purchases)"
   ]
  },
  {
   "cell_type": "code",
   "execution_count": 5,
   "id": "65c75ab5",
   "metadata": {},
   "outputs": [],
   "source": [
    "# Saving data to CSV files\n",
    "user_profiles_df.to_csv('user.csv', index=False)\n",
    "product_data_df.to_csv('product.csv', index=False)\n",
    "interactions_df.to_csv('interactions.csv', index=False)\n",
    "purchases_df.to_csv('purchases.csv', index=False)"
   ]
  }
 ],
 "metadata": {
  "kernelspec": {
   "display_name": "Python 3 (ipykernel)",
   "language": "python",
   "name": "python3"
  },
  "language_info": {
   "codemirror_mode": {
    "name": "ipython",
    "version": 3
   },
   "file_extension": ".py",
   "mimetype": "text/x-python",
   "name": "python",
   "nbconvert_exporter": "python",
   "pygments_lexer": "ipython3",
   "version": "3.10.4"
  }
 },
 "nbformat": 4,
 "nbformat_minor": 5
}
